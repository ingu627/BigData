{
 "cells": [
  {
   "cell_type": "code",
   "execution_count": 1,
   "metadata": {},
   "outputs": [],
   "source": [
    "from pyspark.sql import SparkSession"
   ]
  },
  {
   "cell_type": "code",
   "execution_count": 2,
   "metadata": {},
   "outputs": [
    {
     "name": "stderr",
     "output_type": "stream",
     "text": [
      "Setting default log level to \"WARN\".\n",
      "To adjust logging level use sc.setLogLevel(newLevel). For SparkR, use setLogLevel(newLevel).\n"
     ]
    },
    {
     "name": "stdout",
     "output_type": "stream",
     "text": [
      "22/12/11 16:15:54 WARN NativeCodeLoader: Unable to load native-hadoop library for your platform... using builtin-java classes where applicable\n",
      "22/12/11 16:15:54 WARN Utils: Service 'SparkUI' could not bind on port 4040. Attempting port 4041.\n",
      "22/12/11 16:15:54 WARN Utils: Service 'SparkUI' could not bind on port 4041. Attempting port 4042.\n",
      "\n",
      "\n",
      "Load Movie Dataset : ratings, movies, links\n",
      "\n",
      "\n"
     ]
    },
    {
     "name": "stderr",
     "output_type": "stream",
     "text": [
      "                                                                                \r"
     ]
    },
    {
     "name": "stdout",
     "output_type": "stream",
     "text": [
      "Transform : ratings\n",
      "\n",
      "\n"
     ]
    },
    {
     "name": "stderr",
     "output_type": "stream",
     "text": [
      "                                                                                \r"
     ]
    },
    {
     "name": "stdout",
     "output_type": "stream",
     "text": [
      "+------+-------+------+\n",
      "|userId|movieId|rating|\n",
      "+------+-------+------+\n",
      "|  1906|   5349|   3.5|\n",
      "| 16458|    778|   4.0|\n",
      "| 12642|  60684|   3.5|\n",
      "+------+-------+------+\n",
      "only showing top 3 rows\n",
      "\n",
      "None\n"
     ]
    },
    {
     "name": "stderr",
     "output_type": "stream",
     "text": [
      "                                                                                \r"
     ]
    },
    {
     "name": "stdout",
     "output_type": "stream",
     "text": [
      "UserId Count : 26024289\n",
      "Transform : movies\n",
      "\n",
      "\n",
      "+---------+--------------------+------------+------------+\n",
      "|  imdb_id|               title|vote_average|release_date|\n",
      "+---------+--------------------+------------+------------+\n",
      "|tt0093818|          Radio Days|         7.0|  1987-01-30|\n",
      "|tt0144969|           Home Page|         0.0|  1998-10-14|\n",
      "|tt0168987|Better Than Choco...|         6.4|  1999-02-14|\n",
      "+---------+--------------------+------------+------------+\n",
      "only showing top 3 rows\n",
      "\n",
      "None\n",
      "Movie Count : 45572\n"
     ]
    }
   ],
   "source": [
    "MAX_MEMORY = '8g'\n",
    "\n",
    "spark = SparkSession.builder \\\n",
    "    .appName('recommender_system1') \\\n",
    "    .config('spark.driver.memory', MAX_MEMORY) \\\n",
    "    .config('spark.some.config.option', 'some-value') \\\n",
    "    .getOrCreate()\n",
    "\n",
    "base_path = '/Users/hyunseokjung/data/movie_dataset/'\n",
    "\n",
    "print('\\n\\nLoad Movie Dataset : ratings, movies, links\\n\\n')\n",
    "ratings = spark.read.csv(base_path+'ratings.csv', header=True, inferSchema=True).repartition(5).cache()\n",
    "metadata = spark.read.csv(base_path+'movies_metadata.csv', header=True, inferSchema=True).repartition(5).cache()\n",
    "links = spark.read.csv(base_path+'links.csv', header=True, inferSchema=True).repartition(5).cache()\n",
    "\n",
    "ratings = ratings.select('userId', 'movieId', 'rating').cache()\n",
    "print('Transform : ratings\\n\\n')\n",
    "print(ratings.show(3))\n",
    "print(f'UserId Count : {ratings.count()}')\n",
    "\n",
    "metadata = metadata.select('imdb_id', 'title', 'vote_average', 'release_date').cache()\n",
    "print('Transform : movies\\n\\n')\n",
    "print(metadata.show(3))\n",
    "print(f'Movie Count : {metadata.count()}')"
   ]
  },
  {
   "cell_type": "code",
   "execution_count": 3,
   "metadata": {},
   "outputs": [
    {
     "name": "stdout",
     "output_type": "stream",
     "text": [
      "+-------+------+------+\n",
      "|movieId|imdbId|tmdbId|\n",
      "+-------+------+------+\n",
      "|  92956|113666| 70374|\n",
      "| 174759| 17372|189505|\n",
      "|    418|106379| 46924|\n",
      "+-------+------+------+\n",
      "only showing top 3 rows\n",
      "\n"
     ]
    }
   ],
   "source": [
    "links.show(3)"
   ]
  },
  {
   "cell_type": "code",
   "execution_count": 22,
   "metadata": {},
   "outputs": [],
   "source": [
    "import pandas as pd\n",
    "\n",
    "metadata_pd = metadata.toPandas()\n",
    "links_pd = links.toPandas()"
   ]
  },
  {
   "cell_type": "code",
   "execution_count": 25,
   "metadata": {},
   "outputs": [
    {
     "data": {
      "text/html": [
       "<div>\n",
       "<style scoped>\n",
       "    .dataframe tbody tr th:only-of-type {\n",
       "        vertical-align: middle;\n",
       "    }\n",
       "\n",
       "    .dataframe tbody tr th {\n",
       "        vertical-align: top;\n",
       "    }\n",
       "\n",
       "    .dataframe thead th {\n",
       "        text-align: right;\n",
       "    }\n",
       "</style>\n",
       "<table border=\"1\" class=\"dataframe\">\n",
       "  <thead>\n",
       "    <tr style=\"text-align: right;\">\n",
       "      <th></th>\n",
       "      <th>imdb_id</th>\n",
       "      <th>title</th>\n",
       "      <th>vote_average</th>\n",
       "      <th>release_date</th>\n",
       "    </tr>\n",
       "  </thead>\n",
       "  <tbody>\n",
       "    <tr>\n",
       "      <th>0</th>\n",
       "      <td>tt0093818</td>\n",
       "      <td>Radio Days</td>\n",
       "      <td>7.0</td>\n",
       "      <td>1987-01-30</td>\n",
       "    </tr>\n",
       "    <tr>\n",
       "      <th>1</th>\n",
       "      <td>tt0144969</td>\n",
       "      <td>Home Page</td>\n",
       "      <td>0.0</td>\n",
       "      <td>1998-10-14</td>\n",
       "    </tr>\n",
       "    <tr>\n",
       "      <th>2</th>\n",
       "      <td>tt0168987</td>\n",
       "      <td>Better Than Chocolate</td>\n",
       "      <td>6.4</td>\n",
       "      <td>1999-02-14</td>\n",
       "    </tr>\n",
       "    <tr>\n",
       "      <th>3</th>\n",
       "      <td>tt0084503</td>\n",
       "      <td>Pink Floyd: The Wall</td>\n",
       "      <td>7.7</td>\n",
       "      <td>1982-07-14</td>\n",
       "    </tr>\n",
       "    <tr>\n",
       "      <th>4</th>\n",
       "      <td>tt0238015</td>\n",
       "      <td>All Access: Front Row. Backstage. Live!</td>\n",
       "      <td>0.0</td>\n",
       "      <td>2001-05-20</td>\n",
       "    </tr>\n",
       "    <tr>\n",
       "      <th>...</th>\n",
       "      <td>...</td>\n",
       "      <td>...</td>\n",
       "      <td>...</td>\n",
       "      <td>...</td>\n",
       "    </tr>\n",
       "    <tr>\n",
       "      <th>45567</th>\n",
       "      <td>tt0060401</td>\n",
       "      <td>None</td>\n",
       "      <td>False</td>\n",
       "      <td>[{'iso_3166_1': 'PL', 'name': 'Poland'}]</td>\n",
       "    </tr>\n",
       "    <tr>\n",
       "      <th>45568</th>\n",
       "      <td>tt0997282</td>\n",
       "      <td>Solstorm</td>\n",
       "      <td>5.4</td>\n",
       "      <td>2007-11-02</td>\n",
       "    </tr>\n",
       "    <tr>\n",
       "      <th>45569</th>\n",
       "      <td>tt4659060</td>\n",
       "      <td>La révolution n'est pas un dîner de gala</td>\n",
       "      <td>0.0</td>\n",
       "      <td>2015-12-01</td>\n",
       "    </tr>\n",
       "    <tr>\n",
       "      <th>45570</th>\n",
       "      <td>tt4208868</td>\n",
       "      <td>None</td>\n",
       "      <td>False</td>\n",
       "      <td>[{'iso_3166_1': 'NL', 'name': 'Netherlands'}]</td>\n",
       "    </tr>\n",
       "    <tr>\n",
       "      <th>45571</th>\n",
       "      <td>tt1810864</td>\n",
       "      <td>Ducoboo</td>\n",
       "      <td>4.9</td>\n",
       "      <td>2011-06-22</td>\n",
       "    </tr>\n",
       "  </tbody>\n",
       "</table>\n",
       "<p>45572 rows × 4 columns</p>\n",
       "</div>"
      ],
      "text/plain": [
       "         imdb_id                                     title vote_average  \\\n",
       "0      tt0093818                                Radio Days          7.0   \n",
       "1      tt0144969                                 Home Page          0.0   \n",
       "2      tt0168987                     Better Than Chocolate          6.4   \n",
       "3      tt0084503                      Pink Floyd: The Wall          7.7   \n",
       "4      tt0238015   All Access: Front Row. Backstage. Live!          0.0   \n",
       "...          ...                                       ...          ...   \n",
       "45567  tt0060401                                      None        False   \n",
       "45568  tt0997282                                  Solstorm          5.4   \n",
       "45569  tt4659060  La révolution n'est pas un dîner de gala          0.0   \n",
       "45570  tt4208868                                      None        False   \n",
       "45571  tt1810864                                   Ducoboo          4.9   \n",
       "\n",
       "                                        release_date  \n",
       "0                                         1987-01-30  \n",
       "1                                         1998-10-14  \n",
       "2                                         1999-02-14  \n",
       "3                                         1982-07-14  \n",
       "4                                         2001-05-20  \n",
       "...                                              ...  \n",
       "45567       [{'iso_3166_1': 'PL', 'name': 'Poland'}]  \n",
       "45568                                     2007-11-02  \n",
       "45569                                     2015-12-01  \n",
       "45570  [{'iso_3166_1': 'NL', 'name': 'Netherlands'}]  \n",
       "45571                                     2011-06-22  \n",
       "\n",
       "[45572 rows x 4 columns]"
      ]
     },
     "execution_count": 25,
     "metadata": {},
     "output_type": "execute_result"
    }
   ],
   "source": [
    "metadata_pd"
   ]
  },
  {
   "cell_type": "code",
   "execution_count": 24,
   "metadata": {},
   "outputs": [
    {
     "data": {
      "text/html": [
       "<div>\n",
       "<style scoped>\n",
       "    .dataframe tbody tr th:only-of-type {\n",
       "        vertical-align: middle;\n",
       "    }\n",
       "\n",
       "    .dataframe tbody tr th {\n",
       "        vertical-align: top;\n",
       "    }\n",
       "\n",
       "    .dataframe thead th {\n",
       "        text-align: right;\n",
       "    }\n",
       "</style>\n",
       "<table border=\"1\" class=\"dataframe\">\n",
       "  <thead>\n",
       "    <tr style=\"text-align: right;\">\n",
       "      <th></th>\n",
       "      <th>movieId</th>\n",
       "      <th>imdbId</th>\n",
       "      <th>tmdbId</th>\n",
       "    </tr>\n",
       "  </thead>\n",
       "  <tbody>\n",
       "    <tr>\n",
       "      <th>0</th>\n",
       "      <td>92956</td>\n",
       "      <td>113666</td>\n",
       "      <td>70374.0</td>\n",
       "    </tr>\n",
       "    <tr>\n",
       "      <th>1</th>\n",
       "      <td>174759</td>\n",
       "      <td>17372</td>\n",
       "      <td>189505.0</td>\n",
       "    </tr>\n",
       "    <tr>\n",
       "      <th>2</th>\n",
       "      <td>418</td>\n",
       "      <td>106379</td>\n",
       "      <td>46924.0</td>\n",
       "    </tr>\n",
       "    <tr>\n",
       "      <th>3</th>\n",
       "      <td>154222</td>\n",
       "      <td>402590</td>\n",
       "      <td>64190.0</td>\n",
       "    </tr>\n",
       "    <tr>\n",
       "      <th>4</th>\n",
       "      <td>27869</td>\n",
       "      <td>386064</td>\n",
       "      <td>11658.0</td>\n",
       "    </tr>\n",
       "    <tr>\n",
       "      <th>...</th>\n",
       "      <td>...</td>\n",
       "      <td>...</td>\n",
       "      <td>...</td>\n",
       "    </tr>\n",
       "    <tr>\n",
       "      <th>45838</th>\n",
       "      <td>153362</td>\n",
       "      <td>4934296</td>\n",
       "      <td>375732.0</td>\n",
       "    </tr>\n",
       "    <tr>\n",
       "      <th>45839</th>\n",
       "      <td>139705</td>\n",
       "      <td>2120025</td>\n",
       "      <td>326262.0</td>\n",
       "    </tr>\n",
       "    <tr>\n",
       "      <th>45840</th>\n",
       "      <td>3151</td>\n",
       "      <td>20668</td>\n",
       "      <td>26162.0</td>\n",
       "    </tr>\n",
       "    <tr>\n",
       "      <th>45841</th>\n",
       "      <td>71216</td>\n",
       "      <td>19946</td>\n",
       "      <td>117531.0</td>\n",
       "    </tr>\n",
       "    <tr>\n",
       "      <th>45842</th>\n",
       "      <td>77852</td>\n",
       "      <td>468774</td>\n",
       "      <td>76822.0</td>\n",
       "    </tr>\n",
       "  </tbody>\n",
       "</table>\n",
       "<p>45843 rows × 3 columns</p>\n",
       "</div>"
      ],
      "text/plain": [
       "       movieId   imdbId    tmdbId\n",
       "0        92956   113666   70374.0\n",
       "1       174759    17372  189505.0\n",
       "2          418   106379   46924.0\n",
       "3       154222   402590   64190.0\n",
       "4        27869   386064   11658.0\n",
       "...        ...      ...       ...\n",
       "45838   153362  4934296  375732.0\n",
       "45839   139705  2120025  326262.0\n",
       "45840     3151    20668   26162.0\n",
       "45841    71216    19946  117531.0\n",
       "45842    77852   468774   76822.0\n",
       "\n",
       "[45843 rows x 3 columns]"
      ]
     },
     "execution_count": 24,
     "metadata": {},
     "output_type": "execute_result"
    }
   ],
   "source": [
    "links_pd"
   ]
  },
  {
   "cell_type": "code",
   "execution_count": 26,
   "metadata": {},
   "outputs": [],
   "source": [
    "def get_movie_metadata(movieId):\n",
    "    metadata_pd['imdb_id'] = metadata_pd['imdb_id'].astype('category')\n",
    "    imdb_id = links_pd[links_pd['movieId'] == movieId]\n",
    "    imdb_id = imdb_id.imdbId.values[0]\n",
    "    if len(str(imdb_id)) == 7:\n",
    "        movie_rated = metadata_pd[metadata_pd['imdb_id'] == 'tt'+imdb_id.astype(str)]\n",
    "        df = movie_rated.loc[:,['title', 'vote_average', 'release_date']]\n",
    "        return df.reset_index(drop=True)\n",
    "    elif len(str(imdb_id)) == 6:\n",
    "        movie_rated = metadata_pd[metadata_pd['imdb_id'] == 'tt0'+imdb_id.astype(str)]\n",
    "        df = movie_rated.loc[:,['title', 'vote_average', 'release_date']]\n",
    "        return df.reset_index(drop=True)\n",
    "    elif len(str(imdb_id)) == 5:\n",
    "        movie_rated = metadata_pd[metadata_pd['imdb_id'] == 'tt00'+imdb_id.astype(str)]\n",
    "        df = movie_rated.loc[:,['title', 'vote_average', 'release_date']]\n",
    "        return df.reset_index(drop=True)\n",
    "    elif len(str(imdb_id)) == 4:\n",
    "        movie_rated = metadata_pd[metadata_pd['imdb_id'] == 'tt000'+imdb_id.astype(str)]\n",
    "        df = movie_rated.loc[:,['title', 'vote_average', 'release_date']]\n",
    "        return df.reset_index(drop=True)\n",
    "    elif len(str(imdb_id)) == 3:\n",
    "        movie_rated = metadata_pd[metadata_pd['imdb_id'] == 'tt0000'+imdb_id.astype(str)]\n",
    "        df = movie_rated.loc[:,['title', 'vote_average', 'release_date']]\n",
    "        return df.reset_index(drop=True)\n",
    "    elif len(str(imdb_id)) == 2:\n",
    "        movie_rated = metadata_pd[metadata_pd['imdb_id'] == 'tt00000'+imdb_id.astype(str)]\n",
    "        df = movie_rated.loc[:,['title', 'vote_average', 'release_date']]\n",
    "        return df.reset_index(drop=True)\n",
    "    elif len(str(imdb_id)) == 1:\n",
    "        movie_rated = metadata_pd[metadata_pd['imdb_id'] == 'tt000000'+imdb_id.astype(str)]\n",
    "        df = movie_rated.loc[:,['title', 'vote_average', 'release_date']]\n",
    "        return df.reset_index(drop=True)\n",
    "    else:\n",
    "        pass"
   ]
  },
  {
   "cell_type": "code",
   "execution_count": 40,
   "metadata": {},
   "outputs": [
    {
     "name": "stderr",
     "output_type": "stream",
     "text": [
      "/var/folders/b9/8j1qkty17r9244bwmgfs9kdc0000gn/T/ipykernel_24489/2514556784.py:9: FutureWarning: The frame.append method is deprecated and will be removed from pandas in a future version. Use pandas.concat instead.\n",
      "  df_aux_b = df_aux_b.append(get_movie_metadata(movie_id), ignore_index=True)\n",
      "/var/folders/b9/8j1qkty17r9244bwmgfs9kdc0000gn/T/ipykernel_24489/2514556784.py:9: FutureWarning: The frame.append method is deprecated and will be removed from pandas in a future version. Use pandas.concat instead.\n",
      "  df_aux_b = df_aux_b.append(get_movie_metadata(movie_id), ignore_index=True)\n",
      "/var/folders/b9/8j1qkty17r9244bwmgfs9kdc0000gn/T/ipykernel_24489/2514556784.py:9: FutureWarning: The frame.append method is deprecated and will be removed from pandas in a future version. Use pandas.concat instead.\n",
      "  df_aux_b = df_aux_b.append(get_movie_metadata(movie_id), ignore_index=True)\n",
      "/var/folders/b9/8j1qkty17r9244bwmgfs9kdc0000gn/T/ipykernel_24489/2514556784.py:9: FutureWarning: The frame.append method is deprecated and will be removed from pandas in a future version. Use pandas.concat instead.\n",
      "  df_aux_b = df_aux_b.append(get_movie_metadata(movie_id), ignore_index=True)\n"
     ]
    }
   ],
   "source": [
    "movie_list = [30, 50, 203, 4973]\n",
    "\n",
    "df_aux_b = pd.DataFrame({'title': ['aaa'], \n",
    "                         'vote_average': [1.7], \n",
    "                         'release_date': ['1999-01-01']\n",
    "        })\n",
    "\n",
    "for movie_id in movie_list:\n",
    "    df_aux_b = df_aux_b.append(get_movie_metadata(movie_id), ignore_index=True)"
   ]
  },
  {
   "cell_type": "code",
   "execution_count": 47,
   "metadata": {},
   "outputs": [],
   "source": [
    "for movie_id in movie_list:\n",
    "    df_aux_b = pd.concat([df_aux_b, get_movie_metadata(movie_id)])"
   ]
  },
  {
   "cell_type": "code",
   "execution_count": 50,
   "metadata": {},
   "outputs": [
    {
     "name": "stdout",
     "output_type": "stream",
     "text": [
      "                                              title vote_average release_date\n",
      "0  aaa                                               1.7          1999-01-01 \n",
      "1  Shanghai Triad                                    6.5          1995-04-30 \n",
      "2  The Usual Suspects                                8.1          1995-07-19 \n",
      "3  To Wong Foo, Thanks for Everything! Julie Newmar  6.3          1995-09-07 \n",
      "4  Amélie                                            7.8          2001-04-25 \n",
      "0  Shanghai Triad                                    6.5          1995-04-30 \n",
      "0  The Usual Suspects                                8.1          1995-07-19 \n",
      "0  To Wong Foo, Thanks for Everything! Julie Newmar  6.3          1995-09-07 \n",
      "0  Amélie                                            7.8          2001-04-25 \n"
     ]
    },
    {
     "name": "stderr",
     "output_type": "stream",
     "text": [
      "/var/folders/b9/8j1qkty17r9244bwmgfs9kdc0000gn/T/ipykernel_24489/2805075369.py:4: FutureWarning: Passing a negative integer is deprecated in version 1.0 and will not be supported in future version. Instead, use None to not limit the column width.\n",
      "  pd.set_option('display.max_colwidth', -1)\n"
     ]
    },
    {
     "name": "stdout",
     "output_type": "stream",
     "text": [
      "22/12/11 19:55:53 WARN HeartbeatReceiver: Removing executor driver with no recent heartbeats: 275986 ms exceeds timeout 120000 ms\n",
      "22/12/11 19:55:53 WARN SparkContext: Killing executors is not supported by current scheduler.\n"
     ]
    }
   ],
   "source": [
    "pd.set_option('display.max_rows', None)\n",
    "pd.set_option('display.max_columns', None)\n",
    "pd.set_option('display.width', None)\n",
    "pd.set_option('display.max_colwidth', -1)\n",
    "\n",
    "print(df_aux_b)"
   ]
  },
  {
   "cell_type": "code",
   "execution_count": 34,
   "metadata": {},
   "outputs": [
    {
     "data": {
      "text/html": [
       "<div>\n",
       "<style scoped>\n",
       "    .dataframe tbody tr th:only-of-type {\n",
       "        vertical-align: middle;\n",
       "    }\n",
       "\n",
       "    .dataframe tbody tr th {\n",
       "        vertical-align: top;\n",
       "    }\n",
       "\n",
       "    .dataframe thead th {\n",
       "        text-align: right;\n",
       "    }\n",
       "</style>\n",
       "<table border=\"1\" class=\"dataframe\">\n",
       "  <thead>\n",
       "    <tr style=\"text-align: right;\">\n",
       "      <th></th>\n",
       "      <th>title</th>\n",
       "      <th>vote_average</th>\n",
       "      <th>release_date</th>\n",
       "    </tr>\n",
       "  </thead>\n",
       "  <tbody>\n",
       "    <tr>\n",
       "      <th>0</th>\n",
       "      <td>Amélie</td>\n",
       "      <td>7.8</td>\n",
       "      <td>2001-04-25</td>\n",
       "    </tr>\n",
       "  </tbody>\n",
       "</table>\n",
       "</div>"
      ],
      "text/plain": [
       "    title vote_average release_date\n",
       "0  Amélie          7.8   2001-04-25"
      ]
     },
     "execution_count": 34,
     "metadata": {},
     "output_type": "execute_result"
    }
   ],
   "source": [
    "get_movie_metadata(4973)"
   ]
  },
  {
   "cell_type": "code",
   "execution_count": null,
   "metadata": {},
   "outputs": [],
   "source": [
    "df_aux_b = pd.DataFrame({'title': ['aaa'], \n",
    "                         'vote_average': [1.7], \n",
    "                         'release_date': ['1999-01-01']\n",
    "        })\n",
    "\n",
    "for i in movieIdIdx:\n",
    "    df_aux_b = df_aux_b.append(get_movie_metadata(i), ignore_index=True)"
   ]
  },
  {
   "cell_type": "code",
   "execution_count": 45,
   "metadata": {},
   "outputs": [
    {
     "data": {
      "text/html": [
       "<div>\n",
       "<style scoped>\n",
       "    .dataframe tbody tr th:only-of-type {\n",
       "        vertical-align: middle;\n",
       "    }\n",
       "\n",
       "    .dataframe tbody tr th {\n",
       "        vertical-align: top;\n",
       "    }\n",
       "\n",
       "    .dataframe thead th {\n",
       "        text-align: right;\n",
       "    }\n",
       "</style>\n",
       "<table border=\"1\" class=\"dataframe\">\n",
       "  <thead>\n",
       "    <tr style=\"text-align: right;\">\n",
       "      <th></th>\n",
       "      <th>title</th>\n",
       "      <th>vote_average</th>\n",
       "      <th>release_date</th>\n",
       "    </tr>\n",
       "  </thead>\n",
       "  <tbody>\n",
       "    <tr>\n",
       "      <th>0</th>\n",
       "      <td>aaa</td>\n",
       "      <td>1.7</td>\n",
       "      <td>1999-01-01</td>\n",
       "    </tr>\n",
       "    <tr>\n",
       "      <th>1</th>\n",
       "      <td>Shanghai Triad</td>\n",
       "      <td>6.5</td>\n",
       "      <td>1995-04-30</td>\n",
       "    </tr>\n",
       "    <tr>\n",
       "      <th>2</th>\n",
       "      <td>The Usual Suspects</td>\n",
       "      <td>8.1</td>\n",
       "      <td>1995-07-19</td>\n",
       "    </tr>\n",
       "    <tr>\n",
       "      <th>3</th>\n",
       "      <td>To Wong Foo, Thanks for Everything! Julie Newmar</td>\n",
       "      <td>6.3</td>\n",
       "      <td>1995-09-07</td>\n",
       "    </tr>\n",
       "    <tr>\n",
       "      <th>4</th>\n",
       "      <td>Amélie</td>\n",
       "      <td>7.8</td>\n",
       "      <td>2001-04-25</td>\n",
       "    </tr>\n",
       "  </tbody>\n",
       "</table>\n",
       "</div>"
      ],
      "text/plain": [
       "                                              title vote_average release_date\n",
       "0                                               aaa          1.7   1999-01-01\n",
       "1                                    Shanghai Triad          6.5   1995-04-30\n",
       "2                                The Usual Suspects          8.1   1995-07-19\n",
       "3  To Wong Foo, Thanks for Everything! Julie Newmar          6.3   1995-09-07\n",
       "4                                            Amélie          7.8   2001-04-25"
      ]
     },
     "execution_count": 45,
     "metadata": {},
     "output_type": "execute_result"
    }
   ],
   "source": [
    "df_aux_b"
   ]
  },
  {
   "cell_type": "code",
   "execution_count": 46,
   "metadata": {},
   "outputs": [
    {
     "ename": "NameError",
     "evalue": "name 'movieIdIdx' is not defined",
     "output_type": "error",
     "traceback": [
      "\u001b[0;31m---------------------------------------------------------------------------\u001b[0m",
      "\u001b[0;31mNameError\u001b[0m                                 Traceback (most recent call last)",
      "\u001b[1;32m/Users/hyunseokjung/Github/BigData/recommender_system/preprocessing.ipynb Cell 13\u001b[0m in \u001b[0;36m<cell line: 1>\u001b[0;34m()\u001b[0m\n\u001b[0;32m----> <a href='vscode-notebook-cell:/Users/hyunseokjung/Github/BigData/recommender_system/preprocessing.ipynb#X23sZmlsZQ%3D%3D?line=0'>1</a>\u001b[0m \u001b[39mfor\u001b[39;00m i \u001b[39min\u001b[39;00m movieIdIdx:\n\u001b[1;32m      <a href='vscode-notebook-cell:/Users/hyunseokjung/Github/BigData/recommender_system/preprocessing.ipynb#X23sZmlsZQ%3D%3D?line=1'>2</a>\u001b[0m     df_aux_b \u001b[39m=\u001b[39m pd\u001b[39m.\u001b[39mconcat([df_aux_b, get_movie_metadata(i)])\n",
      "\u001b[0;31mNameError\u001b[0m: name 'movieIdIdx' is not defined"
     ]
    }
   ],
   "source": [
    "for i in movieIdIdx:\n",
    "    df_aux_b = pd.concat([df_aux_b, get_movie_metadata(i)])"
   ]
  },
  {
   "cell_type": "code",
   "execution_count": 21,
   "metadata": {},
   "outputs": [
    {
     "ename": "AnalysisException",
     "evalue": "USING column `metadata.*imdb_id = links.imdbId` cannot be resolved on the left side of the join. The left-side columns: [imdb_id, title, vote_average, release_date]",
     "output_type": "error",
     "traceback": [
      "\u001b[0;31m---------------------------------------------------------------------------\u001b[0m",
      "\u001b[0;31mAnalysisException\u001b[0m                         Traceback (most recent call last)",
      "\u001b[1;32m/Users/hyunseokjung/Github/BigData/recommender_system/preprocessing.ipynb Cell 6\u001b[0m in \u001b[0;36m<cell line: 1>\u001b[0;34m()\u001b[0m\n\u001b[0;32m----> <a href='vscode-notebook-cell:/Users/hyunseokjung/Github/BigData/recommender_system/preprocessing.ipynb#W3sZmlsZQ%3D%3D?line=0'>1</a>\u001b[0m metadata_link \u001b[39m=\u001b[39m metadata\u001b[39m.\u001b[39;49mjoin(links, \u001b[39m\"\u001b[39;49m\u001b[39mmetadata.*imdb_id = links.imdbId\u001b[39;49m\u001b[39m\"\u001b[39;49m)\n\u001b[1;32m      <a href='vscode-notebook-cell:/Users/hyunseokjung/Github/BigData/recommender_system/preprocessing.ipynb#W3sZmlsZQ%3D%3D?line=1'>2</a>\u001b[0m metadata_link\u001b[39m.\u001b[39mshow(\u001b[39m3\u001b[39m)\n",
      "File \u001b[0;32m~/opt/anaconda3/envs/pyspark/lib/python3.9/site-packages/pyspark/sql/dataframe.py:1539\u001b[0m, in \u001b[0;36mDataFrame.join\u001b[0;34m(self, other, on, how)\u001b[0m\n\u001b[1;32m   1537\u001b[0m         on \u001b[39m=\u001b[39m \u001b[39mself\u001b[39m\u001b[39m.\u001b[39m_jseq([])\n\u001b[1;32m   1538\u001b[0m     \u001b[39massert\u001b[39;00m \u001b[39misinstance\u001b[39m(how, \u001b[39mstr\u001b[39m), \u001b[39m\"\u001b[39m\u001b[39mhow should be a string\u001b[39m\u001b[39m\"\u001b[39m\n\u001b[0;32m-> 1539\u001b[0m     jdf \u001b[39m=\u001b[39m \u001b[39mself\u001b[39;49m\u001b[39m.\u001b[39;49m_jdf\u001b[39m.\u001b[39;49mjoin(other\u001b[39m.\u001b[39;49m_jdf, on, how)\n\u001b[1;32m   1540\u001b[0m \u001b[39mreturn\u001b[39;00m DataFrame(jdf, \u001b[39mself\u001b[39m\u001b[39m.\u001b[39msparkSession)\n",
      "File \u001b[0;32m~/opt/anaconda3/envs/pyspark/lib/python3.9/site-packages/py4j/java_gateway.py:1321\u001b[0m, in \u001b[0;36mJavaMember.__call__\u001b[0;34m(self, *args)\u001b[0m\n\u001b[1;32m   1315\u001b[0m command \u001b[39m=\u001b[39m proto\u001b[39m.\u001b[39mCALL_COMMAND_NAME \u001b[39m+\u001b[39m\\\n\u001b[1;32m   1316\u001b[0m     \u001b[39mself\u001b[39m\u001b[39m.\u001b[39mcommand_header \u001b[39m+\u001b[39m\\\n\u001b[1;32m   1317\u001b[0m     args_command \u001b[39m+\u001b[39m\\\n\u001b[1;32m   1318\u001b[0m     proto\u001b[39m.\u001b[39mEND_COMMAND_PART\n\u001b[1;32m   1320\u001b[0m answer \u001b[39m=\u001b[39m \u001b[39mself\u001b[39m\u001b[39m.\u001b[39mgateway_client\u001b[39m.\u001b[39msend_command(command)\n\u001b[0;32m-> 1321\u001b[0m return_value \u001b[39m=\u001b[39m get_return_value(\n\u001b[1;32m   1322\u001b[0m     answer, \u001b[39mself\u001b[39;49m\u001b[39m.\u001b[39;49mgateway_client, \u001b[39mself\u001b[39;49m\u001b[39m.\u001b[39;49mtarget_id, \u001b[39mself\u001b[39;49m\u001b[39m.\u001b[39;49mname)\n\u001b[1;32m   1324\u001b[0m \u001b[39mfor\u001b[39;00m temp_arg \u001b[39min\u001b[39;00m temp_args:\n\u001b[1;32m   1325\u001b[0m     temp_arg\u001b[39m.\u001b[39m_detach()\n",
      "File \u001b[0;32m~/opt/anaconda3/envs/pyspark/lib/python3.9/site-packages/pyspark/sql/utils.py:196\u001b[0m, in \u001b[0;36mcapture_sql_exception.<locals>.deco\u001b[0;34m(*a, **kw)\u001b[0m\n\u001b[1;32m    192\u001b[0m converted \u001b[39m=\u001b[39m convert_exception(e\u001b[39m.\u001b[39mjava_exception)\n\u001b[1;32m    193\u001b[0m \u001b[39mif\u001b[39;00m \u001b[39mnot\u001b[39;00m \u001b[39misinstance\u001b[39m(converted, UnknownException):\n\u001b[1;32m    194\u001b[0m     \u001b[39m# Hide where the exception came from that shows a non-Pythonic\u001b[39;00m\n\u001b[1;32m    195\u001b[0m     \u001b[39m# JVM exception message.\u001b[39;00m\n\u001b[0;32m--> 196\u001b[0m     \u001b[39mraise\u001b[39;00m converted \u001b[39mfrom\u001b[39;00m \u001b[39mNone\u001b[39m\n\u001b[1;32m    197\u001b[0m \u001b[39melse\u001b[39;00m:\n\u001b[1;32m    198\u001b[0m     \u001b[39mraise\u001b[39;00m\n",
      "\u001b[0;31mAnalysisException\u001b[0m: USING column `metadata.*imdb_id = links.imdbId` cannot be resolved on the left side of the join. The left-side columns: [imdb_id, title, vote_average, release_date]"
     ]
    }
   ],
   "source": [
    "# metadata_link = metadata.join(links, \"metadata.*imdb_id = links.imdbId\")\n",
    "# metadata_link.show(3)\n",
    "\n",
    "# select('imdb_id').show()"
   ]
  }
 ],
 "metadata": {
  "kernelspec": {
   "display_name": "pyspark",
   "language": "python",
   "name": "python3"
  },
  "language_info": {
   "codemirror_mode": {
    "name": "ipython",
    "version": 3
   },
   "file_extension": ".py",
   "mimetype": "text/x-python",
   "name": "python",
   "nbconvert_exporter": "python",
   "pygments_lexer": "ipython3",
   "version": "3.9.13"
  },
  "orig_nbformat": 4,
  "vscode": {
   "interpreter": {
    "hash": "cbc2b592ccd6079e95c9c6b0edf643b0189dd6a289bfe01be45caefb75409e7c"
   }
  }
 },
 "nbformat": 4,
 "nbformat_minor": 2
}
