{
 "cells": [
  {
   "cell_type": "markdown",
   "metadata": {},
   "source": [
    "### Collaborative Filtering (ALS) \n",
    "\n",
    "- numBlocks (-1 imply auto-config)\n",
    "- rank\n",
    "- iterations\n",
    "- lambda: regularization\n",
    "- implicitPref\n",
    "- alpha "
   ]
  },
  {
   "cell_type": "code",
   "execution_count": 46,
   "metadata": {},
   "outputs": [],
   "source": [
    "from pyspark.sql import SparkSession\n",
    "from pyspark.ml.evaluation import RegressionEvaluator\n",
    "from pyspark.ml.recommendation import ALS"
   ]
  },
  {
   "cell_type": "code",
   "execution_count": 47,
   "metadata": {},
   "outputs": [],
   "source": [
    "spark = SparkSession.builder \\\n",
    "    .appName('movielens').getOrCreate()"
   ]
  },
  {
   "cell_type": "code",
   "execution_count": 48,
   "metadata": {},
   "outputs": [],
   "source": [
    "base_path = '/Users/hyunseokjung/data/ml-latest-small/'\n",
    "\n",
    "df = spark.read.csv(base_path + 'ratings.csv', inferSchema=True, header=True).repartition(10)"
   ]
  },
  {
   "cell_type": "code",
   "execution_count": 49,
   "metadata": {},
   "outputs": [
    {
     "name": "stdout",
     "output_type": "stream",
     "text": [
      "+-------+------------------+----------------+------------------+--------------------+\n",
      "|summary|            userId|         movieId|            rating|           timestamp|\n",
      "+-------+------------------+----------------+------------------+--------------------+\n",
      "|  count|            100836|          100836|            100836|              100836|\n",
      "|   mean|326.12756356856676|19435.2957177992| 3.501556983616962|1.2059460873684695E9|\n",
      "| stddev| 182.6184914634999|35530.9871987002|1.0425292390606344| 2.162610359951315E8|\n",
      "|    min|                 1|               1|               0.5|           828124615|\n",
      "|    max|               610|          193609|               5.0|          1537799250|\n",
      "+-------+------------------+----------------+------------------+--------------------+\n",
      "\n"
     ]
    }
   ],
   "source": [
    "df.describe().show()"
   ]
  },
  {
   "cell_type": "code",
   "execution_count": 50,
   "metadata": {},
   "outputs": [],
   "source": [
    "df = df.select('movieId', 'userId', 'rating')"
   ]
  },
  {
   "cell_type": "code",
   "execution_count": 51,
   "metadata": {},
   "outputs": [],
   "source": [
    "(train, test) = df.randomSplit([.7, .3], seed=42)"
   ]
  },
  {
   "cell_type": "code",
   "execution_count": 52,
   "metadata": {},
   "outputs": [],
   "source": [
    "als = ALS(\n",
    "    maxIter=5,\n",
    "    regParam=0.01,\n",
    "    userCol='userId',\n",
    "    itemCol='movieId',\n",
    "    ratingCol='rating'\n",
    ")"
   ]
  },
  {
   "cell_type": "code",
   "execution_count": 53,
   "metadata": {},
   "outputs": [],
   "source": [
    "model = als.fit(train)"
   ]
  },
  {
   "cell_type": "code",
   "execution_count": 54,
   "metadata": {},
   "outputs": [],
   "source": [
    "pred = model.transform(test)"
   ]
  },
  {
   "cell_type": "code",
   "execution_count": 55,
   "metadata": {},
   "outputs": [
    {
     "name": "stdout",
     "output_type": "stream",
     "text": [
      "+-------+------+------+----------+\n",
      "|movieId|userId|rating|prediction|\n",
      "+-------+------+------+----------+\n",
      "|      1|    46|   5.0| 4.9376774|\n",
      "|      1|   103|   4.0| 3.6570575|\n",
      "|      1|   160|   4.0|  2.740988|\n",
      "|      1|   166|   5.0| 4.3405704|\n",
      "|      1|   385|   4.0| 3.7219534|\n",
      "|      1|   470|   4.0|  4.288341|\n",
      "|      1|   471|   5.0| 3.4242098|\n",
      "|      1|   579|   4.0|  4.706253|\n",
      "|      1|   597|   4.0| 3.8673086|\n",
      "|      2|    20|   3.0| 3.6279657|\n",
      "|      2|    27|   4.0|  4.062544|\n",
      "|      2|   144|   3.0| 3.9259186|\n",
      "|      2|   249|   4.0|  3.887812|\n",
      "|      2|   276|   4.0| 4.4928684|\n",
      "|      2|   330|   1.5| 3.2290287|\n",
      "|      2|   446|   3.0|  3.523339|\n",
      "|      2|   534|   4.5|  3.241715|\n",
      "|      3|    44|   3.0| 2.6066937|\n",
      "|      3|   217|   1.0| 2.4475992|\n",
      "|      3|   477|   3.0| 3.0328598|\n",
      "+-------+------+------+----------+\n",
      "only showing top 20 rows\n",
      "\n"
     ]
    }
   ],
   "source": [
    "pred.show()"
   ]
  },
  {
   "cell_type": "code",
   "execution_count": 56,
   "metadata": {},
   "outputs": [],
   "source": [
    "eval = RegressionEvaluator(\n",
    "    metricName='rmse', \n",
    "    labelCol='rating',\n",
    "    predictionCol='prediction')"
   ]
  },
  {
   "cell_type": "code",
   "execution_count": 57,
   "metadata": {},
   "outputs": [
    {
     "name": "stdout",
     "output_type": "stream",
     "text": [
      "RMSE: nan\n"
     ]
    }
   ],
   "source": [
    "rmse = eval.evaluate(pred)\n",
    "print(f'RMSE: {rmse}')"
   ]
  },
  {
   "cell_type": "code",
   "execution_count": 58,
   "metadata": {},
   "outputs": [],
   "source": [
    "user_1 = test.filter(test['userId'] == 1).select(['movieId', 'userId'])"
   ]
  },
  {
   "cell_type": "code",
   "execution_count": 59,
   "metadata": {},
   "outputs": [
    {
     "name": "stdout",
     "output_type": "stream",
     "text": [
      "+-------+------+\n",
      "|movieId|userId|\n",
      "+-------+------+\n",
      "|    673|     1|\n",
      "|   1042|     1|\n",
      "|   1219|     1|\n",
      "|   1282|     1|\n",
      "|   2028|     1|\n",
      "|   2137|     1|\n",
      "|   2648|     1|\n",
      "|   2654|     1|\n",
      "|   3527|     1|\n",
      "|    457|     1|\n",
      "|    500|     1|\n",
      "|   1073|     1|\n",
      "|   1092|     1|\n",
      "|   1127|     1|\n",
      "|   1240|     1|\n",
      "|   1258|     1|\n",
      "|   1298|     1|\n",
      "|   1587|     1|\n",
      "|   2406|     1|\n",
      "|   2470|     1|\n",
      "+-------+------+\n",
      "only showing top 20 rows\n",
      "\n"
     ]
    }
   ],
   "source": [
    "user_1.show()"
   ]
  },
  {
   "cell_type": "code",
   "execution_count": 60,
   "metadata": {},
   "outputs": [],
   "source": [
    "rec = model.transform(user_1)"
   ]
  },
  {
   "cell_type": "code",
   "execution_count": 61,
   "metadata": {},
   "outputs": [
    {
     "name": "stdout",
     "output_type": "stream",
     "text": [
      "+-------+------+----------+\n",
      "|movieId|userId|prediction|\n",
      "+-------+------+----------+\n",
      "|   2427|     1| 5.8329196|\n",
      "|   1073|     1| 5.6475887|\n",
      "|   1732|     1|  5.564292|\n",
      "|   1196|     1|  5.473176|\n",
      "|   1136|     1|  5.467792|\n",
      "|   1298|     1| 5.4560285|\n",
      "|    954|     1| 5.4171743|\n",
      "|    260|     1|  5.373238|\n",
      "|   2858|     1| 5.3519425|\n",
      "|   2648|     1| 5.1542683|\n",
      "|   2985|     1| 5.0574665|\n",
      "|   2470|     1|   5.02183|\n",
      "|   1258|     1| 4.9590063|\n",
      "|   2797|     1|  4.951475|\n",
      "|   1208|     1|  4.929792|\n",
      "|   1240|     1| 4.8720603|\n",
      "|   2137|     1| 4.8472567|\n",
      "|   1219|     1|  4.842569|\n",
      "|    151|     1|  4.660032|\n",
      "|    457|     1| 4.6316085|\n",
      "+-------+------+----------+\n",
      "only showing top 20 rows\n",
      "\n"
     ]
    }
   ],
   "source": [
    "rec.orderBy('prediction', ascending=False).show()"
   ]
  },
  {
   "cell_type": "code",
   "execution_count": 62,
   "metadata": {},
   "outputs": [
    {
     "name": "stdout",
     "output_type": "stream",
     "text": [
      "+-------+--------------------+--------------------+\n",
      "|movieId|               title|              genres|\n",
      "+-------+--------------------+--------------------+\n",
      "|  52462|Aqua Teen Hunger ...|Action|Adventure|...|\n",
      "| 180031|The Shape of Wate...|Adventure|Drama|F...|\n",
      "|    458|Geronimo: An Amer...|       Drama|Western|\n",
      "|   2900|Monkey Shines (1988)|       Horror|Sci-Fi|\n",
      "|   7481|   Enemy Mine (1985)|Adventure|Drama|S...|\n",
      "+-------+--------------------+--------------------+\n",
      "only showing top 5 rows\n",
      "\n"
     ]
    }
   ],
   "source": [
    "from pyspark.sql.types import StructType, IntegerType, StringType\n",
    "\n",
    "movies = spark.read.csv(base_path + 'movies.csv', header=True).repartition(5)\n",
    "movies.show(5)"
   ]
  },
  {
   "cell_type": "code",
   "execution_count": 63,
   "metadata": {},
   "outputs": [
    {
     "name": "stdout",
     "output_type": "stream",
     "text": [
      "+-------+--------------------+--------------------+------+------+\n",
      "|movieId|               title|              genres|userId|rating|\n",
      "+-------+--------------------+--------------------+------+------+\n",
      "|    356| Forrest Gump (1994)|Comedy|Drama|Roma...|    84|   5.0|\n",
      "|    502|Next Karate Kid, ...|Action|Children|R...|    43|   5.0|\n",
      "|   1500|Grosse Pointe Bla...|Comedy|Crime|Romance|   522|   4.5|\n",
      "|    589|Terminator 2: Jud...|       Action|Sci-Fi|   489|   3.5|\n",
      "|  52319|Inglorious Bastar...|Action|Adventure|...|   298|   3.0|\n",
      "|  37380|         Doom (2005)|Action|Horror|Sci-Fi|   305|   4.0|\n",
      "| 134130|  The Martian (2015)|Adventure|Drama|S...|   586|   2.5|\n",
      "|    327|    Tank Girl (1995)|Action|Comedy|Sci-Fi|   505|   2.5|\n",
      "|  49649|       Eragon (2006)|Action|Adventure|...|   249|   2.5|\n",
      "|  88356|  Smurfs, The (2011)|Animation|Childre...|   382|   2.0|\n",
      "|   1921|           Pi (1998)|Drama|Sci-Fi|Thri...|    50|   3.0|\n",
      "|   4995|Beautiful Mind, A...|       Drama|Romance|    20|   5.0|\n",
      "|  36401|Brothers Grimm, T...|Comedy|Fantasy|Ho...|   298|   0.5|\n",
      "|   4229|Say It Isn't So (...|      Comedy|Romance|   226|   1.0|\n",
      "|    318|Shawshank Redempt...|         Crime|Drama|   434|   4.0|\n",
      "|  71520|Invention of Lyin...|              Comedy|   298|   1.0|\n",
      "|   1213|   Goodfellas (1990)|         Crime|Drama|   178|   4.0|\n",
      "|  82459|    True Grit (2010)|             Western|   590|   4.0|\n",
      "|   4675|Three Fugitives (...|       Action|Comedy|   414|   1.0|\n",
      "|   1200|       Aliens (1986)|Action|Adventure|...|   483|   4.5|\n",
      "+-------+--------------------+--------------------+------+------+\n",
      "only showing top 20 rows\n",
      "\n"
     ]
    }
   ],
   "source": [
    "movies_ratings = movies.join(df, movies.movieId==df.movieId).drop(df.movieId)\n",
    "movies_ratings.show()"
   ]
  },
  {
   "cell_type": "code",
   "execution_count": 64,
   "metadata": {},
   "outputs": [
    {
     "name": "stderr",
     "output_type": "stream",
     "text": [
      "                                                                                \r"
     ]
    },
    {
     "name": "stdout",
     "output_type": "stream",
     "text": [
      "+------+------------------+\n",
      "|userId|               col|\n",
      "+------+------------------+\n",
      "|     1|  {3468, 6.435892}|\n",
      "|     1| {3347, 6.3699517}|\n",
      "|     1|  {951, 6.2661266}|\n",
      "|     2|{102123, 7.113074}|\n",
      "|     2| {112623, 6.70667}|\n",
      "|     2|{167746, 6.634947}|\n",
      "+------+------------------+\n",
      "only showing top 6 rows\n",
      "\n"
     ]
    },
    {
     "name": "stderr",
     "output_type": "stream",
     "text": [
      "[Stage 409:===================================================>  (96 + 4) / 100]\r"
     ]
    },
    {
     "name": "stdout",
     "output_type": "stream",
     "text": [
      "+-------+----------------+\n",
      "|movieId|             col|\n",
      "+-------+----------------+\n",
      "|     26|{329, 7.8223634}|\n",
      "|     26|{224, 6.7963676}|\n",
      "|     26| {99, 6.6198044}|\n",
      "|     27| {147, 7.941797}|\n",
      "|     27|{393, 7.8409085}|\n",
      "|     27| {529, 7.449197}|\n",
      "+-------+----------------+\n",
      "only showing top 6 rows\n",
      "\n"
     ]
    },
    {
     "name": "stderr",
     "output_type": "stream",
     "text": [
      "                                                                                \r"
     ]
    }
   ],
   "source": [
    "model.recommendForAllUsers(3) \\\n",
    "    .selectExpr(\"userId\", \"explode(recommendations)\") \\\n",
    "    .show(6)\n",
    "model.recommendForAllItems(3) \\\n",
    "    .selectExpr(\"movieId\", \"explode(recommendations)\") \\\n",
    "    .show(6)"
   ]
  },
  {
   "cell_type": "code",
   "execution_count": null,
   "metadata": {},
   "outputs": [],
   "source": []
  }
 ],
 "metadata": {
  "kernelspec": {
   "display_name": "Python 3.9.13 ('pyspark')",
   "language": "python",
   "name": "python3"
  },
  "language_info": {
   "codemirror_mode": {
    "name": "ipython",
    "version": 3
   },
   "file_extension": ".py",
   "mimetype": "text/x-python",
   "name": "python",
   "nbconvert_exporter": "python",
   "pygments_lexer": "ipython3",
   "version": "3.9.13"
  },
  "orig_nbformat": 4,
  "vscode": {
   "interpreter": {
    "hash": "cbc2b592ccd6079e95c9c6b0edf643b0189dd6a289bfe01be45caefb75409e7c"
   }
  }
 },
 "nbformat": 4,
 "nbformat_minor": 2
}
