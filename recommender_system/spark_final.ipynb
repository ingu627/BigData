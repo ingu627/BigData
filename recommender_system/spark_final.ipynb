{
 "cells": [
  {
   "cell_type": "code",
   "execution_count": 58,
   "metadata": {},
   "outputs": [],
   "source": [
    "# $SPARK_HOME/bin/spark-submit --master local recommender_system/spark_final.py"
   ]
  },
  {
   "cell_type": "code",
   "execution_count": 59,
   "metadata": {},
   "outputs": [],
   "source": [
    "import findspark\n",
    "findspark.init()"
   ]
  },
  {
   "cell_type": "code",
   "execution_count": 60,
   "metadata": {},
   "outputs": [],
   "source": [
    "from pyspark.sql import SparkSession\n",
    "\n",
    "MAX_MEMORY = '5g'\n",
    "\n",
    "spark = SparkSession.builder \\\n",
    "    .appName('recommender_system1') \\\n",
    "    .config('spark.driver.memory', \"5g\") \\\n",
    "    .config('spark.some.config.option', 'some-value') \\\n",
    "    .getOrCreate()\n"
   ]
  },
  {
   "cell_type": "code",
   "execution_count": 61,
   "metadata": {},
   "outputs": [
    {
     "name": "stderr",
     "output_type": "stream",
     "text": [
      "                                                                                \r"
     ]
    },
    {
     "name": "stdout",
     "output_type": "stream",
     "text": [
      "22/12/11 15:19:36 WARN CacheManager: Asked to cache already cached data.\n",
      "22/12/11 15:19:36 WARN CacheManager: Asked to cache already cached data.\n",
      "22/12/11 15:19:36 WARN CacheManager: Asked to cache already cached data.\n"
     ]
    }
   ],
   "source": [
    "from pyspark.sql.types import StructType, StructField, IntegerType, FloatType\n",
    "\n",
    "base_path = '/Users/hyunseokjung/data/movie_dataset/'\n",
    "\n",
    "ratings = spark.read.csv(base_path+'ratings.csv', header=True, inferSchema=True).repartition(5).cache()\n",
    "metadata = spark.read.csv(base_path+'movies_metadata.csv', header=True, inferSchema=True).repartition(5).cache()\n",
    "links = spark.read.csv(base_path+'links.csv', header=True, inferSchema=True).repartition(5).cache()"
   ]
  },
  {
   "cell_type": "code",
   "execution_count": 62,
   "metadata": {},
   "outputs": [
    {
     "name": "stdout",
     "output_type": "stream",
     "text": [
      "22/12/11 15:19:36 WARN CacheManager: Asked to cache already cached data.\n"
     ]
    }
   ],
   "source": [
    "metadata = metadata.selectExpr('imdb_id', 'title', 'vote_average', 'release_date').cache()"
   ]
  },
  {
   "cell_type": "code",
   "execution_count": 63,
   "metadata": {},
   "outputs": [
    {
     "data": {
      "text/plain": [
       "45572"
      ]
     },
     "execution_count": 63,
     "metadata": {},
     "output_type": "execute_result"
    }
   ],
   "source": [
    "ratings.count()\n",
    "\n",
    "metadata.count()"
   ]
  },
  {
   "cell_type": "code",
   "execution_count": 64,
   "metadata": {},
   "outputs": [
    {
     "name": "stdout",
     "output_type": "stream",
     "text": [
      "22/12/11 15:19:37 WARN CacheManager: Asked to cache already cached data.\n",
      "+------+-------+------+\n",
      "|userId|movieId|rating|\n",
      "+------+-------+------+\n",
      "|  1906|   5349|   3.5|\n",
      "| 16458|    778|   4.0|\n",
      "| 12642|  60684|   3.5|\n",
      "| 25219|   2628|   3.5|\n",
      "| 13210|  26810|   5.0|\n",
      "+------+-------+------+\n",
      "only showing top 5 rows\n",
      "\n"
     ]
    }
   ],
   "source": [
    "ratings = ratings.select('userId', 'movieId', 'rating').cache()\n",
    "ratings.show(5)"
   ]
  },
  {
   "cell_type": "code",
   "execution_count": 65,
   "metadata": {},
   "outputs": [
    {
     "name": "stdout",
     "output_type": "stream",
     "text": [
      "+---------+--------------------+------------+------------+\n",
      "|  imdb_id|               title|vote_average|release_date|\n",
      "+---------+--------------------+------------+------------+\n",
      "|tt0093818|          Radio Days|         7.0|  1987-01-30|\n",
      "|tt0144969|           Home Page|         0.0|  1998-10-14|\n",
      "|tt0168987|Better Than Choco...|         6.4|  1999-02-14|\n",
      "|tt0084503|Pink Floyd: The Wall|         7.7|  1982-07-14|\n",
      "|tt0238015|All Access: Front...|         0.0|  2001-05-20|\n",
      "+---------+--------------------+------------+------------+\n",
      "only showing top 5 rows\n",
      "\n"
     ]
    }
   ],
   "source": [
    "metadata = metadata.select('imdb_id', 'title', 'vote_average', 'release_date').cache()\n",
    "metadata.show(5)"
   ]
  },
  {
   "cell_type": "code",
   "execution_count": 66,
   "metadata": {},
   "outputs": [],
   "source": [
    "train, test = ratings.randomSplit([.7, .3], seed=42)"
   ]
  },
  {
   "cell_type": "code",
   "execution_count": 67,
   "metadata": {},
   "outputs": [
    {
     "name": "stderr",
     "output_type": "stream",
     "text": [
      "[Stage 441:==================================================>      (8 + 1) / 9]\r"
     ]
    },
    {
     "name": "stdout",
     "output_type": "stream",
     "text": [
      "MAE (Test) = 0.6526043524745228\n"
     ]
    },
    {
     "name": "stderr",
     "output_type": "stream",
     "text": [
      "                                                                                \r"
     ]
    }
   ],
   "source": [
    "from pyspark.ml.recommendation import ALS\n",
    "from pyspark.ml.evaluation import RegressionEvaluator\n",
    "\n",
    "als = ALS(\n",
    "    rank=30,\n",
    "    maxIter=4,\n",
    "    regParam=0.1,\n",
    "    userCol='userId',\n",
    "    itemCol='movieId',\n",
    "    ratingCol='rating',\n",
    "    coldStartStrategy='drop',\n",
    "    implicitPrefs=False\n",
    ")\n",
    "model = als.fit(train)\n",
    "predictions = model.transform(test)\n",
    "\n",
    "evaluator = RegressionEvaluator(metricName='mae', labelCol='rating',\n",
    "                                predictionCol='prediction')\n",
    "\n",
    "mae = evaluator.evaluate(predictions)\n",
    "print(f'MAE (Test) = {mae}')"
   ]
  },
  {
   "cell_type": "code",
   "execution_count": 68,
   "metadata": {},
   "outputs": [
    {
     "data": {
      "text/plain": [
       "StructType([StructField('userId', IntegerType(), True), StructField('movieId', IntegerType(), True), StructField('rating', DoubleType(), True)])"
      ]
     },
     "execution_count": 68,
     "metadata": {},
     "output_type": "execute_result"
    }
   ],
   "source": [
    "test.schema"
   ]
  },
  {
   "cell_type": "code",
   "execution_count": 69,
   "metadata": {},
   "outputs": [
    {
     "name": "stderr",
     "output_type": "stream",
     "text": [
      "[Stage 455:====================================================> (98 + 2) / 100]\r"
     ]
    },
    {
     "name": "stdout",
     "output_type": "stream",
     "text": [
      "+------+-------------------+\n",
      "|userId|                col|\n",
      "+------+-------------------+\n",
      "|    26|{127313, 5.6663523}|\n",
      "|    26| {126086, 5.494779}|\n",
      "|    26| {167770, 5.373729}|\n",
      "|    27| {164937, 5.652737}|\n",
      "|    27|{161662, 5.6020017}|\n",
      "|    27|{159467, 5.5251255}|\n",
      "|    28|{164937, 5.3787107}|\n",
      "|    28| {151681, 5.287017}|\n",
      "|    28|{151615, 5.2290335}|\n",
      "+------+-------------------+\n",
      "only showing top 9 rows\n",
      "\n"
     ]
    },
    {
     "name": "stderr",
     "output_type": "stream",
     "text": [
      "                                                                                \r"
     ]
    }
   ],
   "source": [
    "# model.recommendForAllUsers(3) \\\n",
    "#     .selectExpr(\"userId\", \"explode(recommendations)\") \\\n",
    "#     .show(9)"
   ]
  },
  {
   "cell_type": "code",
   "execution_count": 70,
   "metadata": {},
   "outputs": [
    {
     "name": "stderr",
     "output_type": "stream",
     "text": [
      "[Stage 471:===========>                                             (1 + 4) / 5]\r"
     ]
    },
    {
     "name": "stdout",
     "output_type": "stream",
     "text": [
      "+-------+------+----------+\n",
      "|movieId|userId|prediction|\n",
      "+-------+------+----------+\n",
      "|    260|     2| 3.9194903|\n",
      "|     32|     2| 3.3836281|\n",
      "|    339|     2|  3.233927|\n",
      "|    141|     2|  3.142478|\n",
      "|    648|     2| 3.0775516|\n",
      "|    377|     2| 2.9468791|\n",
      "|      5|     2| 2.7816482|\n",
      "|    788|     2| 2.4325862|\n",
      "+-------+------+----------+\n",
      "\n"
     ]
    },
    {
     "name": "stderr",
     "output_type": "stream",
     "text": [
      "                                                                                \r"
     ]
    }
   ],
   "source": [
    "user_suggest = test.filter(test['userId'] == 2).select(['movieId', 'userId'])\n",
    "user_offer = model.transform(user_suggest)\n",
    "user_offer.orderBy('prediction', ascending=False).show()"
   ]
  },
  {
   "cell_type": "code",
   "execution_count": 71,
   "metadata": {},
   "outputs": [
    {
     "name": "stdout",
     "output_type": "stream",
     "text": [
      "50\n"
     ]
    }
   ],
   "source": [
    "user_id = int(input('INPUT USER_ID'))\n",
    "print(user_id)"
   ]
  },
  {
   "cell_type": "code",
   "execution_count": 72,
   "metadata": {},
   "outputs": [
    {
     "name": "stderr",
     "output_type": "stream",
     "text": [
      "[Stage 513:===========>                                             (1 + 4) / 5]\r"
     ]
    },
    {
     "name": "stdout",
     "output_type": "stream",
     "text": [
      "+-------+------+----------+\n",
      "|movieId|userId|prediction|\n",
      "+-------+------+----------+\n",
      "|   1221|    50|  3.943585|\n",
      "|    318|    50|  3.808083|\n",
      "| 142488|    50| 3.6575289|\n",
      "|   2959|    50| 3.4831002|\n",
      "| 122886|    50|  3.191975|\n",
      "+-------+------+----------+\n",
      "\n"
     ]
    },
    {
     "name": "stderr",
     "output_type": "stream",
     "text": [
      "                                                                                \r"
     ]
    }
   ],
   "source": [
    "user_suggest = test.filter(test['userId'] == user_id).select(['movieId', 'userId'])\n",
    "user_offer = model.transform(user_suggest)\n",
    "user_offer.orderBy('prediction', ascending=False).show(7)"
   ]
  },
  {
   "cell_type": "code",
   "execution_count": 73,
   "metadata": {},
   "outputs": [
    {
     "name": "stderr",
     "output_type": "stream",
     "text": [
      "                                                                                \r"
     ]
    }
   ],
   "source": [
    "user_offer_order = user_offer.orderBy('prediction', ascending=False).toPandas()"
   ]
  },
  {
   "cell_type": "code",
   "execution_count": 74,
   "metadata": {},
   "outputs": [
    {
     "data": {
      "text/plain": [
       "5"
      ]
     },
     "execution_count": 74,
     "metadata": {},
     "output_type": "execute_result"
    }
   ],
   "source": [
    "user_offer_order['movieId'][0]\n",
    "len(user_offer_order['movieId'])"
   ]
  },
  {
   "cell_type": "code",
   "execution_count": 107,
   "metadata": {},
   "outputs": [
    {
     "ename": "AttributeError",
     "evalue": "'DataFrame' object has no attribute 'toPandas'",
     "output_type": "error",
     "traceback": [
      "\u001b[0;31m---------------------------------------------------------------------------\u001b[0m",
      "\u001b[0;31mAttributeError\u001b[0m                            Traceback (most recent call last)",
      "\u001b[1;32m/Users/hyunseokjung/Github/BigData/recommender_system/spark_final.ipynb Cell 19\u001b[0m in \u001b[0;36m<cell line: 1>\u001b[0;34m()\u001b[0m\n\u001b[0;32m----> <a href='vscode-notebook-cell:/Users/hyunseokjung/Github/BigData/recommender_system/spark_final.ipynb#X32sZmlsZQ%3D%3D?line=0'>1</a>\u001b[0m metadata \u001b[39m=\u001b[39m metadata\u001b[39m.\u001b[39;49mtoPandas()\n",
      "File \u001b[0;32m~/opt/anaconda3/envs/pyspark/lib/python3.9/site-packages/pandas/core/generic.py:5902\u001b[0m, in \u001b[0;36mNDFrame.__getattr__\u001b[0;34m(self, name)\u001b[0m\n\u001b[1;32m   5895\u001b[0m \u001b[39mif\u001b[39;00m (\n\u001b[1;32m   5896\u001b[0m     name \u001b[39mnot\u001b[39;00m \u001b[39min\u001b[39;00m \u001b[39mself\u001b[39m\u001b[39m.\u001b[39m_internal_names_set\n\u001b[1;32m   5897\u001b[0m     \u001b[39mand\u001b[39;00m name \u001b[39mnot\u001b[39;00m \u001b[39min\u001b[39;00m \u001b[39mself\u001b[39m\u001b[39m.\u001b[39m_metadata\n\u001b[1;32m   5898\u001b[0m     \u001b[39mand\u001b[39;00m name \u001b[39mnot\u001b[39;00m \u001b[39min\u001b[39;00m \u001b[39mself\u001b[39m\u001b[39m.\u001b[39m_accessors\n\u001b[1;32m   5899\u001b[0m     \u001b[39mand\u001b[39;00m \u001b[39mself\u001b[39m\u001b[39m.\u001b[39m_info_axis\u001b[39m.\u001b[39m_can_hold_identifiers_and_holds_name(name)\n\u001b[1;32m   5900\u001b[0m ):\n\u001b[1;32m   5901\u001b[0m     \u001b[39mreturn\u001b[39;00m \u001b[39mself\u001b[39m[name]\n\u001b[0;32m-> 5902\u001b[0m \u001b[39mreturn\u001b[39;00m \u001b[39mobject\u001b[39;49m\u001b[39m.\u001b[39;49m\u001b[39m__getattribute__\u001b[39;49m(\u001b[39mself\u001b[39;49m, name)\n",
      "\u001b[0;31mAttributeError\u001b[0m: 'DataFrame' object has no attribute 'toPandas'"
     ]
    }
   ],
   "source": []
  },
  {
   "cell_type": "code",
   "execution_count": 126,
   "metadata": {},
   "outputs": [
    {
     "data": {
      "text/html": [
       "<div>\n",
       "<style scoped>\n",
       "    .dataframe tbody tr th:only-of-type {\n",
       "        vertical-align: middle;\n",
       "    }\n",
       "\n",
       "    .dataframe tbody tr th {\n",
       "        vertical-align: top;\n",
       "    }\n",
       "\n",
       "    .dataframe thead th {\n",
       "        text-align: right;\n",
       "    }\n",
       "</style>\n",
       "<table border=\"1\" class=\"dataframe\">\n",
       "  <thead>\n",
       "    <tr style=\"text-align: right;\">\n",
       "      <th></th>\n",
       "      <th>movieId</th>\n",
       "      <th>imdbId</th>\n",
       "      <th>tmdbId</th>\n",
       "    </tr>\n",
       "  </thead>\n",
       "  <tbody>\n",
       "    <tr>\n",
       "      <th>19273</th>\n",
       "      <td>1221</td>\n",
       "      <td>71562</td>\n",
       "      <td>240.0</td>\n",
       "    </tr>\n",
       "  </tbody>\n",
       "</table>\n",
       "</div>"
      ],
      "text/plain": [
       "       movieId  imdbId  tmdbId\n",
       "19273     1221   71562   240.0"
      ]
     },
     "execution_count": 126,
     "metadata": {},
     "output_type": "execute_result"
    }
   ],
   "source": [
    "links[links['movieId'] == 1221]"
   ]
  },
  {
   "cell_type": "code",
   "execution_count": 125,
   "metadata": {},
   "outputs": [
    {
     "data": {
      "text/plain": [
       "0        0        0        0        0        0        0...\n",
       "1        0        0        0        0        0        0...\n",
       "2        0        0        0        0        0        0...\n",
       "3        0        0        0        0        0        0...\n",
       "4        0        0        0        0        0        0...\n",
       "                               ...                        \n",
       "45567    0        0        0        0        0        0...\n",
       "45568    0        0        0        0        0        0...\n",
       "45569    0        0        0        0        0        0...\n",
       "45570    0        0        0        0        0        0...\n",
       "45571    0        0        0        0        0        0...\n",
       "Name: imdb_id, Length: 45572, dtype: object"
      ]
     },
     "execution_count": 125,
     "metadata": {},
     "output_type": "execute_result"
    }
   ],
   "source": [
    "imdb_id = metadata['imdb_id']\n",
    "imdb_id"
   ]
  },
  {
   "cell_type": "code",
   "execution_count": null,
   "metadata": {},
   "outputs": [],
   "source": []
  },
  {
   "cell_type": "code",
   "execution_count": 121,
   "metadata": {},
   "outputs": [],
   "source": [
    "import pandas as pd\n",
    "\n",
    "# Get the Movie on metadata\n",
    "def get_movie_metadata(movieId, metadata, links):\n",
    "    \n",
    "    # metadata = metadata.toPandas()\n",
    "    # links = links.toPandas()\n",
    "    # metadata['imdb_id'] = metadata['imdb_id'].astype('category')\n",
    "    metadata['imdb_id'] = str(metadata['imdb_id'])\n",
    "    imdb_id = links[links['movieId'] == movieId]\n",
    "    imdb_id = imdb_id.imdbId.values[0]\n",
    "    if len(str(imdb_id)) == 7:\n",
    "        movie_rated = metadata[metadata['imdb_id'] == 'tt'+imdb_id.astype(str)]\n",
    "        df = movie_rated.loc[:,['title', 'vote_average', 'release_date']]\n",
    "        return df.reset_index(drop=True)\n",
    "    elif len(str(imdb_id)) == 6:\n",
    "        movie_rated = metadata[metadata['imdb_id'] == 'tt0'+imdb_id.astype(str)]\n",
    "        df = movie_rated.loc[:,['title', 'vote_average', 'release_date']]\n",
    "        return df.reset_index(drop=True)\n",
    "    elif len(str(imdb_id)) == 5:\n",
    "        movie_rated = metadata[metadata['imdb_id'] == 'tt00'+imdb_id.astype(str)]\n",
    "        df = movie_rated.loc[:,['title', 'vote_average', 'release_date']]\n",
    "        return df.reset_index(drop=True)\n",
    "    elif len(str(imdb_id)) == 4:\n",
    "        movie_rated = metadata[metadata['imdb_id'] == 'tt000'+imdb_id.astype(str)]\n",
    "        df = movie_rated.loc[:,['title', 'vote_average', 'release_date']]\n",
    "        return df.reset_index(drop=True)\n",
    "    elif len(str(imdb_id)) == 3:\n",
    "        movie_rated = metadata[metadata['imdb_id'] == 'tt0000'+imdb_id.astype(str)]\n",
    "        df = movie_rated.loc[:,['title', 'vote_average', 'release_date']]\n",
    "        return df.reset_index(drop=True)\n",
    "    elif len(str(imdb_id)) == 2:\n",
    "        movie_rated = metadata[metadata['imdb_id'] == 'tt00000'+imdb_id.astype(str)]\n",
    "        df = movie_rated.loc[:,['title', 'vote_average', 'release_date']]\n",
    "        return df.reset_index(drop=True)\n",
    "    elif len(str(imdb_id)) == 1:\n",
    "        movie_rated = metadata[metadata['imdb_id'] == 'tt000000'+imdb_id.astype(str)]\n",
    "        df = movie_rated.loc[:,['title', 'vote_average', 'release_date']]\n",
    "        return df.reset_index(drop=True)\n",
    "    else:\n",
    "        pass\n",
    "# Get Movie List\n",
    "def get_movie(df):\n",
    "    movieIdIdx = df['movieId'].values.astype(int)\n",
    "    df_aux_b = pd.DataFrame({'title': ['aaa'], \n",
    "                           'overview': ['bbb'], \n",
    "                           'vote_average': [1.7], \n",
    "                           'release_date': ['1999-01-01']\n",
    "        })\n",
    "    for i in movieIdIdx:\n",
    "        df_aux_b = df_aux_b.append(get_movie_metadata(i, metadata, links), ignore_index=True)\n",
    "\n",
    "    df_aux_b.drop(0, inplace=True)\n",
    "    df_aux_b['release_date'] = df_aux_b['release_date'].apply(lambda x : x.split('-')[0])\n",
    "    df_aux_b['release_date'] = df_aux_b['release_date'].astype(int)\n",
    "    df_aux_b.rename(columns={'release_date' : 'release_year'}, inplace=True)\n",
    "    return df_aux_b.reset_index(drop=True)"
   ]
  },
  {
   "cell_type": "code",
   "execution_count": 124,
   "metadata": {},
   "outputs": [
    {
     "name": "stdout",
     "output_type": "stream",
     "text": [
      "Empty DataFrame\n",
      "Columns: [title, vote_average, release_date]\n",
      "Index: []\n",
      "Empty DataFrame\n",
      "Columns: [title, vote_average, release_date]\n",
      "Index: []\n",
      "Empty DataFrame\n",
      "Columns: [title, vote_average, release_date]\n",
      "Index: []\n",
      "Empty DataFrame\n",
      "Columns: [title, vote_average, release_date]\n",
      "Index: []\n",
      "Empty DataFrame\n",
      "Columns: [title, vote_average, release_date]\n",
      "Index: []\n"
     ]
    }
   ],
   "source": [
    "for movieId in user_offer_order['movieId']:\n",
    "    print(get_movie_metadata(movieId, metadata, links))"
   ]
  }
 ],
 "metadata": {
  "kernelspec": {
   "display_name": "pyspark",
   "language": "python",
   "name": "python3"
  },
  "language_info": {
   "codemirror_mode": {
    "name": "ipython",
    "version": 3
   },
   "file_extension": ".py",
   "mimetype": "text/x-python",
   "name": "python",
   "nbconvert_exporter": "python",
   "pygments_lexer": "ipython3",
   "version": "3.9.13"
  },
  "orig_nbformat": 4,
  "vscode": {
   "interpreter": {
    "hash": "cbc2b592ccd6079e95c9c6b0edf643b0189dd6a289bfe01be45caefb75409e7c"
   }
  }
 },
 "nbformat": 4,
 "nbformat_minor": 2
}
