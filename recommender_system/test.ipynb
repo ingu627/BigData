{
 "cells": [
  {
   "cell_type": "code",
   "execution_count": 1,
   "metadata": {},
   "outputs": [
    {
     "name": "stderr",
     "output_type": "stream",
     "text": [
      "Setting default log level to \"WARN\".\n",
      "To adjust logging level use sc.setLogLevel(newLevel). For SparkR, use setLogLevel(newLevel).\n"
     ]
    },
    {
     "name": "stdout",
     "output_type": "stream",
     "text": [
      "22/12/05 13:47:25 WARN NativeCodeLoader: Unable to load native-hadoop library for your platform... using builtin-java classes where applicable\n",
      "22/12/05 13:47:26 WARN Utils: Service 'SparkUI' could not bind on port 4040. Attempting port 4041.\n",
      "22/12/05 13:47:26 WARN Utils: Service 'SparkUI' could not bind on port 4041. Attempting port 4042.\n"
     ]
    }
   ],
   "source": [
    "from pyspark.sql import SparkSession\n",
    "\n",
    "spark = SparkSession.builder \\\n",
    "    .appName('recommender_system') \\\n",
    "    .getOrCreate()\n"
   ]
  },
  {
   "cell_type": "code",
   "execution_count": 12,
   "metadata": {},
   "outputs": [],
   "source": [
    "from pyspark.sql.types import StructType, StructField, IntegerType, FloatType\n",
    "\n",
    "base_path = '/Users/hyunseokjung/data/movie_dataset/'\n",
    "file_name = 'ratings_small.csv'\n",
    "\n",
    "data_schema = StructType([\n",
    "    StructField('userId', IntegerType(), False),\n",
    "    StructField('movieId', IntegerType(), False),\n",
    "    StructField('rating', FloatType(), False),\n",
    "    StructField('timestamp',IntegerType(), False)\n",
    "])\n",
    "\n",
    "df = spark.read.format(\"csv\") \\\n",
    "    .option('header', True) \\\n",
    "    .option('inferSchema', True) \\\n",
    "    .schema(data_schema) \\\n",
    "    .load(base_path + file_name) \\\n",
    "    .cache()"
   ]
  },
  {
   "cell_type": "code",
   "execution_count": 13,
   "metadata": {},
   "outputs": [],
   "source": [
    "ratings = df.select('userId', 'movieId', 'rating').cache()"
   ]
  },
  {
   "cell_type": "code",
   "execution_count": 15,
   "metadata": {},
   "outputs": [
    {
     "name": "stdout",
     "output_type": "stream",
     "text": [
      "+------+-------+------+\n",
      "|userId|movieId|rating|\n",
      "+------+-------+------+\n",
      "|     1|     31|   2.5|\n",
      "|     1|   1029|   3.0|\n",
      "|     1|   1061|   3.0|\n",
      "|     1|   1129|   2.0|\n",
      "|     1|   1172|   4.0|\n",
      "+------+-------+------+\n",
      "only showing top 5 rows\n",
      "\n"
     ]
    },
    {
     "data": {
      "text/plain": [
       "['userId', 'movieId', 'rating']"
      ]
     },
     "execution_count": 15,
     "metadata": {},
     "output_type": "execute_result"
    }
   ],
   "source": [
    "ratings.show(5)\n",
    "\n",
    "ratings.columns\n"
   ]
  },
  {
   "cell_type": "code",
   "execution_count": 15,
   "metadata": {},
   "outputs": [],
   "source": [
    "# spark <-> pandas 변환\n",
    "\n",
    "# df1 = df.toPandas()\n",
    "\n",
    "# df2 = spark.createDataFrame(df1)"
   ]
  },
  {
   "cell_type": "code",
   "execution_count": 17,
   "metadata": {},
   "outputs": [],
   "source": [
    "# stringIndexer 는 원핫 인코딩 작업이다."
   ]
  },
  {
   "cell_type": "code",
   "execution_count": 16,
   "metadata": {},
   "outputs": [],
   "source": [
    "train, test = ratings.randomSplit([.7, .3], seed=42)"
   ]
  },
  {
   "cell_type": "code",
   "execution_count": 18,
   "metadata": {},
   "outputs": [
    {
     "name": "stdout",
     "output_type": "stream",
     "text": [
      "MAE (Test) = 0.7244259116516412\n"
     ]
    }
   ],
   "source": [
    "from pyspark.ml.recommendation import ALS\n",
    "from pyspark.ml.evaluation import RegressionEvaluator\n",
    "\n",
    "als = ALS(\n",
    "    rank=30,\n",
    "    maxIter=4,\n",
    "    regParam=0.1,\n",
    "    userCol='userId',\n",
    "    itemCol='movieId',\n",
    "    ratingCol='rating',\n",
    "    coldStartStrategy='drop',\n",
    "    implicitPrefs=False\n",
    ")\n",
    "model = als.fit(train)\n",
    "predictions = model.transform(test)\n",
    "\n",
    "evaluator = RegressionEvaluator(metricName='mae', labelCol='rating',\n",
    "                                predictionCol='prediction')\n",
    "\n",
    "mae = evaluator.evaluate(predictions)\n",
    "print(f'MAE (Test) = {mae}')"
   ]
  },
  {
   "cell_type": "code",
   "execution_count": 19,
   "metadata": {},
   "outputs": [
    {
     "name": "stderr",
     "output_type": "stream",
     "text": [
      "[Stage 112:====================================>                 (68 + 8) / 100]\r"
     ]
    },
    {
     "name": "stdout",
     "output_type": "stream",
     "text": [
      "+------+-------------------+\n",
      "|userId|    recommendations|\n",
      "+------+-------------------+\n",
      "|     1| [{1950, 3.501675}]|\n",
      "|     2|[{83411, 5.050743}]|\n",
      "|     3|[{1361, 4.4313684}]|\n",
      "|     4| [{1948, 5.595908}]|\n",
      "|     5| [{4357, 4.872115}]|\n",
      "+------+-------------------+\n",
      "only showing top 5 rows\n",
      "\n"
     ]
    },
    {
     "name": "stderr",
     "output_type": "stream",
     "text": [
      "                                                                                \r"
     ]
    }
   ],
   "source": [
    "model.recommendForAllUsers(1).show(5)"
   ]
  },
  {
   "cell_type": "code",
   "execution_count": 20,
   "metadata": {},
   "outputs": [
    {
     "name": "stderr",
     "output_type": "stream",
     "text": [
      "[Stage 137:===========================================>          (81 + 8) / 100]\r"
     ]
    },
    {
     "name": "stdout",
     "output_type": "stream",
     "text": [
      "+-------+------------------+\n",
      "|movieId|   recommendations|\n",
      "+-------+------------------+\n",
      "|     12|[{113, 4.4283714}]|\n",
      "|     26| [{113, 5.159644}]|\n",
      "|     27| [{113, 4.378224}]|\n",
      "|     28|[{464, 4.9823256}]|\n",
      "|     31| [{113, 4.782653}]|\n",
      "+-------+------------------+\n",
      "only showing top 5 rows\n",
      "\n"
     ]
    },
    {
     "name": "stderr",
     "output_type": "stream",
     "text": [
      "                                                                                \r"
     ]
    }
   ],
   "source": [
    "model.recommendForAllItems(1).show(5)"
   ]
  },
  {
   "cell_type": "markdown",
   "metadata": {},
   "source": [
    "---"
   ]
  },
  {
   "cell_type": "code",
   "execution_count": 25,
   "metadata": {},
   "outputs": [
    {
     "name": "stderr",
     "output_type": "stream",
     "text": [
      "/var/folders/b9/8j1qkty17r9244bwmgfs9kdc0000gn/T/ipykernel_18702/2546457260.py:7: DtypeWarning: Columns (10) have mixed types. Specify dtype option on import or set low_memory=False.\n",
      "  metadata = pd.read_csv(base_path + file_name1)\n"
     ]
    }
   ],
   "source": [
    "# movie_metadata\n",
    "import pandas as pd\n",
    "\n",
    "file_name1 = 'movies_metadata.csv'\n",
    "file_name2 = 'links.csv'\n",
    "\n",
    "metadata = pd.read_csv(base_path + file_name1)\n",
    "links = pd.read_csv(base_path + file_name2)\n"
   ]
  },
  {
   "cell_type": "code",
   "execution_count": null,
   "metadata": {},
   "outputs": [],
   "source": []
  },
  {
   "cell_type": "code",
   "execution_count": 26,
   "metadata": {},
   "outputs": [],
   "source": [
    "# Get the Movie on metadata\n",
    "def get_movie_metadata(movieId):\n",
    "    metadata['imdb_id'] = metadata['imdb_id'].astype('category')\n",
    "    imdb_id = links[links['movieId'] == movieId]\n",
    "    imdb_id = imdb_id.imdbId.values[0]\n",
    "    if len(str(imdb_id)) == 7:\n",
    "        movie_rated = metadata[metadata['imdb_id'] == 'tt'+imdb_id.astype(str)]\n",
    "        df = movie_rated.loc[:,['title', 'overview', 'vote_average', 'release_date']]\n",
    "        return df.reset_index(drop=True)\n",
    "    elif len(str(imdb_id)) == 6:\n",
    "        movie_rated = metadata[metadata['imdb_id'] == 'tt0'+imdb_id.astype(str)]\n",
    "        df = movie_rated.loc[:,['title', 'overview', 'vote_average', 'release_date']]\n",
    "        return df.reset_index(drop=True)\n",
    "    elif len(str(imdb_id)) == 5:\n",
    "        movie_rated = metadata[metadata['imdb_id'] == 'tt00'+imdb_id.astype(str)]\n",
    "        df = movie_rated.loc[:,['title', 'overview', 'vote_average', 'release_date']]\n",
    "        return df.reset_index(drop=True)\n",
    "    elif len(str(imdb_id)) == 4:\n",
    "        movie_rated = metadata[metadata['imdb_id'] == 'tt000'+imdb_id.astype(str)]\n",
    "        df = movie_rated.loc[:,['title', 'overview', 'vote_average', 'release_date']]\n",
    "        return df.reset_index(drop=True)\n",
    "    elif len(str(imdb_id)) == 3:\n",
    "        movie_rated = metadata[metadata['imdb_id'] == 'tt0000'+imdb_id.astype(str)]\n",
    "        df = movie_rated.loc[:,['title', 'overview', 'vote_average', 'release_date']]\n",
    "        return df.reset_index(drop=True)\n",
    "    elif len(str(imdb_id)) == 2:\n",
    "        movie_rated = metadata[metadata['imdb_id'] == 'tt00000'+imdb_id.astype(str)]\n",
    "        df = movie_rated.loc[:,['title', 'overview', 'vote_average', 'release_date']]\n",
    "        return df.reset_index(drop=True)\n",
    "    elif len(str(imdb_id)) == 1:\n",
    "        movie_rated = metadata[metadata['imdb_id'] == 'tt000000'+imdb_id.astype(str)]\n",
    "        df = movie_rated.loc[:,['title', 'overview', 'vote_average', 'release_date']]\n",
    "        return df.reset_index(drop=True)\n",
    "    else:\n",
    "        pass\n",
    "# Get Movie List\n",
    "def get_movie(df):\n",
    "    movieIdIdx = df['movieId'].values.astype(int)\n",
    "    df_aux_b = pd.DataFrame({'title': ['aaa'], \n",
    "                           'overview': ['bbb'], \n",
    "                           'vote_average': [1.7], \n",
    "                           'release_date': ['1999-01-01']\n",
    "        })\n",
    "    for i in movieIdIdx:\n",
    "        df_aux_b = df_aux_b.append(get_movie_metadata(i), ignore_index=True)\n",
    "\n",
    "    df_aux_b.drop(0, inplace=True)\n",
    "    df_aux_b['release_date'] = df_aux_b['release_date'].apply(lambda x : x.split('-')[0])\n",
    "    df_aux_b['release_date'] = df_aux_b['release_date'].astype(int)\n",
    "    df_aux_b.rename(columns={'release_date' : 'release_year'}, inplace=True)\n",
    "    return df_aux_b.reset_index(drop=True)"
   ]
  },
  {
   "cell_type": "code",
   "execution_count": 28,
   "metadata": {},
   "outputs": [
    {
     "data": {
      "text/html": [
       "<div>\n",
       "<style scoped>\n",
       "    .dataframe tbody tr th:only-of-type {\n",
       "        vertical-align: middle;\n",
       "    }\n",
       "\n",
       "    .dataframe tbody tr th {\n",
       "        vertical-align: top;\n",
       "    }\n",
       "\n",
       "    .dataframe thead th {\n",
       "        text-align: right;\n",
       "    }\n",
       "</style>\n",
       "<table border=\"1\" class=\"dataframe\">\n",
       "  <thead>\n",
       "    <tr style=\"text-align: right;\">\n",
       "      <th></th>\n",
       "      <th>title</th>\n",
       "      <th>overview</th>\n",
       "      <th>vote_average</th>\n",
       "      <th>release_date</th>\n",
       "    </tr>\n",
       "  </thead>\n",
       "  <tbody>\n",
       "    <tr>\n",
       "      <th>0</th>\n",
       "      <td>Dracula: Dead and Loving It</td>\n",
       "      <td>When a lawyer shows up at the vampire's doorst...</td>\n",
       "      <td>5.7</td>\n",
       "      <td>1995-12-22</td>\n",
       "    </tr>\n",
       "  </tbody>\n",
       "</table>\n",
       "</div>"
      ],
      "text/plain": [
       "                         title  \\\n",
       "0  Dracula: Dead and Loving It   \n",
       "\n",
       "                                            overview  vote_average  \\\n",
       "0  When a lawyer shows up at the vampire's doorst...           5.7   \n",
       "\n",
       "  release_date  \n",
       "0   1995-12-22  "
      ]
     },
     "execution_count": 28,
     "metadata": {},
     "output_type": "execute_result"
    }
   ],
   "source": [
    "get_movie_metadata(12)"
   ]
  }
 ],
 "metadata": {
  "kernelspec": {
   "display_name": "Python 3.9.13 ('pyspark')",
   "language": "python",
   "name": "python3"
  },
  "language_info": {
   "codemirror_mode": {
    "name": "ipython",
    "version": 3
   },
   "file_extension": ".py",
   "mimetype": "text/x-python",
   "name": "python",
   "nbconvert_exporter": "python",
   "pygments_lexer": "ipython3",
   "version": "3.9.13"
  },
  "orig_nbformat": 4,
  "vscode": {
   "interpreter": {
    "hash": "cbc2b592ccd6079e95c9c6b0edf643b0189dd6a289bfe01be45caefb75409e7c"
   }
  }
 },
 "nbformat": 4,
 "nbformat_minor": 2
}
