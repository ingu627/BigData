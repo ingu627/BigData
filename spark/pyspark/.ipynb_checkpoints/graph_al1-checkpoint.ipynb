{
 "cells": [
  {
   "cell_type": "code",
   "execution_count": null,
   "metadata": {},
   "outputs": [],
   "source": [
    "# pyspark --packages graphframes:graphframes:0.8.2-spark3.2-s_2.12"
   ]
  },
  {
   "cell_type": "code",
   "execution_count": null,
   "metadata": {},
   "outputs": [],
   "source": []
  },
  {
   "cell_type": "code",
   "execution_count": null,
   "metadata": {},
   "outputs": [],
   "source": [
    "# WITH “https://github.com/neo4j-graph-analtics/book/raw/master/data” AS base\n",
    "# WITH base + “transport-nodes.csv” AS uri\n",
    "# LOAD CSV WITH HEADERS FROM uri AS row\n",
    "# MERGE (place:Place {id:row.id})\n",
    "# SET place.latitude = toFloat(row.latitude),\n",
    "#         place.longitude = toFloat(row.longitude),\n",
    "#         place.population = toInteger(row.population)"
   ]
  },
  {
   "cell_type": "code",
   "execution_count": 9,
   "metadata": {},
   "outputs": [],
   "source": [
    "from pyspark.sql.types import *\n",
    "from graphframes import *"
   ]
  },
  {
   "cell_type": "code",
   "execution_count": 10,
   "metadata": {},
   "outputs": [],
   "source": [
    "def create_transport_graph():\n",
    "    node_fields = [\n",
    "        StructField(\"id\", StringType(), True),\n",
    "        StructField(\"latitude\", FloatType(), True),\n",
    "        StructField(\"longitude\", FloatType(), True),\n",
    "        StructField(\"population\", IntegerType(), True)\n",
    "    ]\n",
    "\n",
    "    nodes = spark.read.csv(\"/Users/hyunseokjung/Github/graph_algorithm/data/transport-nodes.csv\",\n",
    "                           header=True,\n",
    "                           schema=StructType(node_fields))\n",
    "    rels = spark.read.csv(\"/Users/hyunseokjung/Github/graph_algorithm/data/transport-relationships.csv\", header=True)\n",
    "    \n",
    "    reversed_rels = (rels.withColumn(\"newSrc\", rels.dst)\n",
    "                    .withColumn(\"newDst\", rels.src)\n",
    "                    .drop(\"dst\", \"src\")\n",
    "                    .withColumnRenamed(\"newSrc\", \"src\")\n",
    "                    .withColumnRenamed(\"newDst\", \"dst\")\n",
    "                    .select(\"src\", \"dst\", \"relationship\", \"cost\"))\n",
    "    \n",
    "    relationships = rels.union(reversed_rels)\n",
    "    \n",
    "    return GraphFrame(nodes, relationships)"
   ]
  },
  {
   "cell_type": "code",
   "execution_count": 11,
   "metadata": {},
   "outputs": [],
   "source": [
    "g = create_transport_graph()"
   ]
  },
  {
   "cell_type": "code",
   "execution_count": 12,
   "metadata": {},
   "outputs": [
    {
     "name": "stdout",
     "output_type": "stream",
     "text": [
      "+----------+--------+---------+----------+\n",
      "|        id|latitude|longitude|population|\n",
      "+----------+--------+---------+----------+\n",
      "|Colchester|51.88921|  0.90421|    104390|\n",
      "|   Ipswich|52.05917|  1.15545|    133384|\n",
      "+----------+--------+---------+----------+\n",
      "\n"
     ]
    }
   ],
   "source": [
    "(g.vertices\n",
    "  .filter(\"population > 100000 and population < 300000\")\n",
    "  .sort(\"population\")\n",
    "  .show())"
   ]
  },
  {
   "cell_type": "code",
   "execution_count": 13,
   "metadata": {
    "scrolled": true
   },
   "outputs": [],
   "source": [
    "from_expr = \"id='Den Haag'\"\n",
    "to_expr = \"population > 100000 and population < 3000000 and id <> 'Den Haag'\"\n",
    "result = g.bfs(from_expr, to_expr)"
   ]
  },
  {
   "cell_type": "code",
   "execution_count": 14,
   "metadata": {},
   "outputs": [
    {
     "name": "stdout",
     "output_type": "stream",
     "text": [
      "['from', 'e0', 'to']\n"
     ]
    }
   ],
   "source": [
    "print(result.columns)"
   ]
  },
  {
   "cell_type": "code",
   "execution_count": 15,
   "metadata": {},
   "outputs": [
    {
     "name": "stdout",
     "output_type": "stream",
     "text": [
      "+---------------------------------------+---------------------------------------+\n",
      "|from                                   |to                                     |\n",
      "+---------------------------------------+---------------------------------------+\n",
      "|{Den Haag, 52.078663, 4.288788, 514861}|{Rotterdam, 51.9225, 4.47917, 623652}  |\n",
      "|{Den Haag, 52.078663, 4.288788, 514861}|{Amsterdam, 52.37919, 4.899431, 821752}|\n",
      "+---------------------------------------+---------------------------------------+\n",
      "\n"
     ]
    }
   ],
   "source": [
    "columns = [column for column in result.columns if not column.startswith(\"e\")]\n",
    "result.select(columns).show(5, False)"
   ]
  },
  {
   "cell_type": "code",
   "execution_count": null,
   "metadata": {},
   "outputs": [],
   "source": []
  },
  {
   "cell_type": "code",
   "execution_count": null,
   "metadata": {},
   "outputs": [],
   "source": []
  }
 ],
 "metadata": {
  "kernelspec": {
   "display_name": "Python 3 (ipykernel)",
   "language": "python",
   "name": "python3"
  },
  "language_info": {
   "codemirror_mode": {
    "name": "ipython",
    "version": 3
   },
   "file_extension": ".py",
   "mimetype": "text/x-python",
   "name": "python",
   "nbconvert_exporter": "python",
   "pygments_lexer": "ipython3",
   "version": "3.9.13"
  },
  "vscode": {
   "interpreter": {
    "hash": "cbc2b592ccd6079e95c9c6b0edf643b0189dd6a289bfe01be45caefb75409e7c"
   }
  }
 },
 "nbformat": 4,
 "nbformat_minor": 1
}
